{
  "cells": [
    {
      "cell_type": "code",
      "source": [
        "import simdata\n",
        "import matplotlib.pyplot as plt"
      ],
      "outputs": [],
      "execution_count": 10,
      "metadata": {}
    },
    {
      "cell_type": "code",
      "source": [
        "caldirection=\"J2000 12h00m00.0s 50d00m00.0s\"\n",
        "srcdirection=None"
      ],
      "outputs": [],
      "execution_count": 11,
      "metadata": {}
    },
    {
      "cell_type": "code",
      "source": [
        "simdata.simulate(imagename='first_12h+50d.ms', calobsdir=caldirection, srcobsdir=srcdirection, freq='1.4GHz', integrationtime='1s', diameter=5.0, noise='0Jy', gainnoise=0.1)"
      ],
      "outputs": [
        {
          "output_type": "stream",
          "name": "stderr",
          "text": [
            "2019-09-08 07:43:12,879 - simdata - INFO - Removing existing file, dsa110-calsrc.ms\n"
          ]
        }
      ],
      "execution_count": 12,
      "metadata": {}
    },
    {
      "cell_type": "code",
      "source": [
        "data = simdata.read()"
      ],
      "outputs": [
        {
          "output_type": "stream",
          "name": "stderr",
          "text": [
            "2019-09-08 07:43:39,315 - simdata - INFO - Read data of shape: (2, 1, 105, 900)\n"
          ]
        }
      ],
      "execution_count": 13,
      "metadata": {}
    },
    {
      "cell_type": "code",
      "source": [
        "plt.plot(data.flatten().real, data.flatten().imag, 'b.') "
      ],
      "outputs": [
        {
          "output_type": "execute_result",
          "execution_count": 16,
          "data": {
            "text/plain": [
              "[<matplotlib.lines.Line2D at 0x121c47d30>]"
            ]
          },
          "metadata": {}
        },
        {
          "output_type": "display_data",
          "data": {
            "text/plain": [
              "<Figure size 432x288 with 1 Axes>"
            ],
            "image/png": "[encoded data removed]"
          },
          "metadata": {
            "needs_background": "light"
          }
        }
      ],
      "execution_count": 16,
      "metadata": {}
    },
    {
      "cell_type": "code",
      "source": [
        "data"
      ],
      "outputs": [
        {
          "output_type": "execute_result",
          "execution_count": 15,
          "data": {
            "text/plain": [
              "array([[[[         nan        +nanj,          nan        +nanj,\n",
              "                   nan        +nanj, ...,          nan        +nanj,\n",
              "                   nan        +nanj,          nan        +nanj],\n",
              "         [         nan        +nanj,          nan        +nanj,\n",
              "                   nan        +nanj, ...,          nan        +nanj,\n",
              "                   nan        +nanj,          nan        +nanj],\n",
              "         [         nan        +nanj,          nan        +nanj,\n",
              "                   nan        +nanj, ...,          nan        +nanj,\n",
              "                   nan        +nanj,          nan        +nanj],\n",
              "         ...,\n",
              "         [ -2.17934108 -0.90079468j,  -2.22440934 -1.03837693j,\n",
              "           -2.28892255 -1.24220967j, ...,   3.37738252 +8.78635883j,\n",
              "            3.17047262 +8.87395573j,   2.95845509 +8.95653915j],\n",
              "         [ -2.42483902 +2.52836013j,  -2.4565804  +2.33762074j,\n",
              "           -2.5156498  +2.10616541j, ...,  -3.64095259+11.04135132j,\n",
              "           -3.60518909+11.09627724j,  -3.67218113+11.12072659j],\n",
              "         [  7.84648418 -8.34837818j,   7.84649611 -8.34836388j,\n",
              "            7.84650898 -8.34835052j, ...,  -0.99526376 +4.61415386j,\n",
              "           -0.93453628 +4.61079025j,  -0.93454397 +4.61078835j]]],\n",
              "\n",
              "\n",
              "       [[[  2.01413965 -6.98980427j,   2.08226442 -7.10112095j,\n",
              "            2.09221077 -7.08366585j, ...,   2.83398271-24.52083969j,\n",
              "            2.81696868-24.78726387j,   2.79695368-25.05392647j],\n",
              "         [  1.42846286 +1.43922377j,   1.57450199 +1.36243713j,\n",
              "            1.65030158 +1.30578911j, ..., -13.38702679+21.10929489j,\n",
              "          -12.80765915+21.01943207j, -12.45617104+20.95225716j],\n",
              "         [  1.14055443 +4.62360668j,   1.14712131 +4.60993767j,\n",
              "            1.14226484 +4.59813118j, ...,   6.19810677+11.24324703j,\n",
              "            6.19519138+12.08147812j,   6.50938797+13.05799866j],\n",
              "         ...,\n",
              "         [ -1.77241719 +2.29600811j,  -1.95025826 +2.3051033j ,\n",
              "           -2.21300793 +2.31590009j, ...,   3.37738252 +8.78635883j,\n",
              "            3.17047262 +8.87395573j,   2.95845509 +8.95653915j],\n",
              "         [ -3.93824196 +0.98930395j,  -3.85193729 +0.78245878j,\n",
              "           -3.7673912  +0.51880157j, ...,  -3.64095259+11.04135132j,\n",
              "           -3.60518909+11.09627724j,  -3.67218113+11.12072659j],\n",
              "         [  6.06260777+10.54806614j,   6.06259108+10.54807472j,\n",
              "            6.06257343+10.54808521j, ...,  -0.99526376 +4.61415386j,\n",
              "           -0.93453628 +4.61079025j,  -0.93454397 +4.61078835j]]]])"
            ]
          },
          "metadata": {}
        }
      ],
      "execution_count": 15,
      "metadata": {}
    },
    {
      "cell_type": "code",
      "source": [],
      "outputs": [],
      "execution_count": null,
      "metadata": {
        "collapsed": false,
        "outputHidden": false,
        "inputHidden": false
      }
    }
  ],
  "metadata": {
    "kernelspec": {
      "name": "py36",
      "language": "python",
      "display_name": "py36"
    },
    "language_info": {
      "name": "python",
      "version": "3.6.7",
      "mimetype": "text/x-python",
      "codemirror_mode": {
        "name": "ipython",
        "version": 3
      },
      "pygments_lexer": "ipython3",
      "nbconvert_exporter": "python",
      "file_extension": ".py"
    },
    "kernel_info": {
      "name": "py36"
    },
    "nteract": {
      "version": "0.14.5"
    }
  },
  "nbformat": 4,
  "nbformat_minor": 4
}